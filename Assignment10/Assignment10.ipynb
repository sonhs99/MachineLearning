{
  "nbformat": 4,
  "nbformat_minor": 0,
  "metadata": {
    "colab": {
      "name": "Assignment10",
      "provenance": [],
      "collapsed_sections": [],
      "authorship_tag": "ABX9TyOGCmNDPIJOhjj7s9roajIE",
      "include_colab_link": true
    },
    "kernelspec": {
      "name": "python3",
      "display_name": "Python 3"
    },
    "accelerator": "GPU",
    "widgets": {
      "application/vnd.jupyter.widget-state+json": {
        "1d4beded920f4972aff6d37f3b9a2809": {
          "model_module": "@jupyter-widgets/controls",
          "model_name": "HBoxModel",
          "state": {
            "_view_name": "HBoxView",
            "_dom_classes": [],
            "_model_name": "HBoxModel",
            "_view_module": "@jupyter-widgets/controls",
            "_model_module_version": "1.5.0",
            "_view_count": null,
            "_view_module_version": "1.5.0",
            "box_style": "",
            "layout": "IPY_MODEL_e06dfce9c33d46f28cb7678329924d47",
            "_model_module": "@jupyter-widgets/controls",
            "children": [
              "IPY_MODEL_9c9eecc3361f41d2b373f2a917a3b907",
              "IPY_MODEL_51b09e909298435a99e09eb13662931f"
            ]
          }
        },
        "e06dfce9c33d46f28cb7678329924d47": {
          "model_module": "@jupyter-widgets/base",
          "model_name": "LayoutModel",
          "state": {
            "_view_name": "LayoutView",
            "grid_template_rows": null,
            "right": null,
            "justify_content": null,
            "_view_module": "@jupyter-widgets/base",
            "overflow": null,
            "_model_module_version": "1.2.0",
            "_view_count": null,
            "flex_flow": null,
            "width": null,
            "min_width": null,
            "border": null,
            "align_items": null,
            "bottom": null,
            "_model_module": "@jupyter-widgets/base",
            "top": null,
            "grid_column": null,
            "overflow_y": null,
            "overflow_x": null,
            "grid_auto_flow": null,
            "grid_area": null,
            "grid_template_columns": null,
            "flex": null,
            "_model_name": "LayoutModel",
            "justify_items": null,
            "grid_row": null,
            "max_height": null,
            "align_content": null,
            "visibility": null,
            "align_self": null,
            "height": null,
            "min_height": null,
            "padding": null,
            "grid_auto_rows": null,
            "grid_gap": null,
            "max_width": null,
            "order": null,
            "_view_module_version": "1.2.0",
            "grid_template_areas": null,
            "object_position": null,
            "object_fit": null,
            "grid_auto_columns": null,
            "margin": null,
            "display": null,
            "left": null
          }
        },
        "9c9eecc3361f41d2b373f2a917a3b907": {
          "model_module": "@jupyter-widgets/controls",
          "model_name": "FloatProgressModel",
          "state": {
            "_view_name": "ProgressView",
            "style": "IPY_MODEL_2c6a9b4cb8e14b0987e9b2cab2e237ac",
            "_dom_classes": [],
            "description": "100%",
            "_model_name": "FloatProgressModel",
            "bar_style": "success",
            "max": 15000,
            "_view_module": "@jupyter-widgets/controls",
            "_model_module_version": "1.5.0",
            "value": 15000,
            "_view_count": null,
            "_view_module_version": "1.5.0",
            "orientation": "horizontal",
            "min": 0,
            "description_tooltip": null,
            "_model_module": "@jupyter-widgets/controls",
            "layout": "IPY_MODEL_8117fdc1ce0f4dc0887533e0d9c32d99"
          }
        },
        "51b09e909298435a99e09eb13662931f": {
          "model_module": "@jupyter-widgets/controls",
          "model_name": "HTMLModel",
          "state": {
            "_view_name": "HTMLView",
            "style": "IPY_MODEL_2c690e4206504742a1db227d55820f53",
            "_dom_classes": [],
            "description": "",
            "_model_name": "HTMLModel",
            "placeholder": "​",
            "_view_module": "@jupyter-widgets/controls",
            "_model_module_version": "1.5.0",
            "value": " 15000/15000 [32:55&lt;00:00,  7.59it/s]",
            "_view_count": null,
            "_view_module_version": "1.5.0",
            "description_tooltip": null,
            "_model_module": "@jupyter-widgets/controls",
            "layout": "IPY_MODEL_91f9942bf7c44bb491b6b49e5d4c8d23"
          }
        },
        "2c6a9b4cb8e14b0987e9b2cab2e237ac": {
          "model_module": "@jupyter-widgets/controls",
          "model_name": "ProgressStyleModel",
          "state": {
            "_view_name": "StyleView",
            "_model_name": "ProgressStyleModel",
            "description_width": "initial",
            "_view_module": "@jupyter-widgets/base",
            "_model_module_version": "1.5.0",
            "_view_count": null,
            "_view_module_version": "1.2.0",
            "bar_color": null,
            "_model_module": "@jupyter-widgets/controls"
          }
        },
        "8117fdc1ce0f4dc0887533e0d9c32d99": {
          "model_module": "@jupyter-widgets/base",
          "model_name": "LayoutModel",
          "state": {
            "_view_name": "LayoutView",
            "grid_template_rows": null,
            "right": null,
            "justify_content": null,
            "_view_module": "@jupyter-widgets/base",
            "overflow": null,
            "_model_module_version": "1.2.0",
            "_view_count": null,
            "flex_flow": null,
            "width": null,
            "min_width": null,
            "border": null,
            "align_items": null,
            "bottom": null,
            "_model_module": "@jupyter-widgets/base",
            "top": null,
            "grid_column": null,
            "overflow_y": null,
            "overflow_x": null,
            "grid_auto_flow": null,
            "grid_area": null,
            "grid_template_columns": null,
            "flex": null,
            "_model_name": "LayoutModel",
            "justify_items": null,
            "grid_row": null,
            "max_height": null,
            "align_content": null,
            "visibility": null,
            "align_self": null,
            "height": null,
            "min_height": null,
            "padding": null,
            "grid_auto_rows": null,
            "grid_gap": null,
            "max_width": null,
            "order": null,
            "_view_module_version": "1.2.0",
            "grid_template_areas": null,
            "object_position": null,
            "object_fit": null,
            "grid_auto_columns": null,
            "margin": null,
            "display": null,
            "left": null
          }
        },
        "2c690e4206504742a1db227d55820f53": {
          "model_module": "@jupyter-widgets/controls",
          "model_name": "DescriptionStyleModel",
          "state": {
            "_view_name": "StyleView",
            "_model_name": "DescriptionStyleModel",
            "description_width": "",
            "_view_module": "@jupyter-widgets/base",
            "_model_module_version": "1.5.0",
            "_view_count": null,
            "_view_module_version": "1.2.0",
            "_model_module": "@jupyter-widgets/controls"
          }
        },
        "91f9942bf7c44bb491b6b49e5d4c8d23": {
          "model_module": "@jupyter-widgets/base",
          "model_name": "LayoutModel",
          "state": {
            "_view_name": "LayoutView",
            "grid_template_rows": null,
            "right": null,
            "justify_content": null,
            "_view_module": "@jupyter-widgets/base",
            "overflow": null,
            "_model_module_version": "1.2.0",
            "_view_count": null,
            "flex_flow": null,
            "width": null,
            "min_width": null,
            "border": null,
            "align_items": null,
            "bottom": null,
            "_model_module": "@jupyter-widgets/base",
            "top": null,
            "grid_column": null,
            "overflow_y": null,
            "overflow_x": null,
            "grid_auto_flow": null,
            "grid_area": null,
            "grid_template_columns": null,
            "flex": null,
            "_model_name": "LayoutModel",
            "justify_items": null,
            "grid_row": null,
            "max_height": null,
            "align_content": null,
            "visibility": null,
            "align_self": null,
            "height": null,
            "min_height": null,
            "padding": null,
            "grid_auto_rows": null,
            "grid_gap": null,
            "max_width": null,
            "order": null,
            "_view_module_version": "1.2.0",
            "grid_template_areas": null,
            "object_position": null,
            "object_fit": null,
            "grid_auto_columns": null,
            "margin": null,
            "display": null,
            "left": null
          }
        }
      }
    }
  },
  "cells": [
    {
      "cell_type": "markdown",
      "metadata": {
        "id": "view-in-github",
        "colab_type": "text"
      },
      "source": [
        "<a href=\"https://colab.research.google.com/github/sonhs99/MachineLearning/blob/master/Assignment10/Assignment10.ipynb\" target=\"_parent\"><img src=\"https://colab.research.google.com/assets/colab-badge.svg\" alt=\"Open In Colab\"/></a>"
      ]
    },
    {
      "cell_type": "markdown",
      "metadata": {
        "id": "HaXPhnA7xU2u",
        "colab_type": "text"
      },
      "source": [
        "# Assignment09"
      ]
    },
    {
      "cell_type": "markdown",
      "metadata": {
        "id": "BOykv3DVxf49",
        "colab_type": "text"
      },
      "source": [
        "### 0. Import Library, Get Data"
      ]
    },
    {
      "cell_type": "code",
      "metadata": {
        "id": "4qPH6LDODCp1",
        "colab_type": "code",
        "colab": {}
      },
      "source": [
        "from google.colab import files\n",
        "import matplotlib.pyplot as plt\n",
        "import numpy as np\n",
        "import cupy as cp\n",
        "import random\n",
        "from tqdm.auto import tqdm"
      ],
      "execution_count": 0,
      "outputs": []
    },
    {
      "cell_type": "code",
      "metadata": {
        "id": "ZCDkj8TIVzz8",
        "colab_type": "code",
        "colab": {}
      },
      "source": [
        "file_data   = \"sample_data/mnist_test.csv\"\n",
        "handle_file = open(file_data, \"r\")\n",
        "data        = handle_file.readlines()\n",
        "handle_file.close()\n",
        "\n",
        "size_row    = 28    # height of the image\n",
        "size_col    = 28    # width of the image\n",
        "\n",
        "num_image   = len(data)\n",
        "count       = 0     # count for the number of images\n",
        "\n",
        "#\n",
        "# normalize the values of the input data to be [0, 1]\n",
        "#\n",
        "def normalize(data):\n",
        "\n",
        "    data_normalized = (data - min(data)) / (max(data) - min(data))\n",
        "\n",
        "    return(data_normalized)\n",
        "\n",
        "#\n",
        "# example of distance function between two vectors x and y\n",
        "#\n",
        "def distance(x, y):\n",
        "\n",
        "    d = (x - y) ** 2\n",
        "    s = np.sum(d)\n",
        "    # r = np.sqrt(s)\n",
        "\n",
        "    return(s)\n",
        "\n",
        "#\n",
        "# make a matrix each column of which represents an images in a vector form\n",
        "#\n",
        "list_image  = np.empty((size_row * size_col, num_image), dtype=float)\n",
        "list_labels  = np.empty(num_image, dtype=int)\n",
        "\n",
        "for line in data:\n",
        "\n",
        "    line_data   = line.split(',')\n",
        "    label       = line_data[0]\n",
        "    im_vector   = np.asfarray(line_data[1:])\n",
        "    im_vector   = normalize(im_vector)\n",
        "\n",
        "    list_labels[count]       = label\n",
        "    list_image[:, count]    = im_vector\n",
        "\n",
        "    count += 1\n",
        "\n",
        "list_label = cp.zeros((10, num_image))\n",
        "for i in range(num_image):\n",
        "  list_label[list_labels[i]][i] = 1"
      ],
      "execution_count": 0,
      "outputs": []
    },
    {
      "cell_type": "code",
      "metadata": {
        "id": "MHN3-J8JmwBE",
        "colab_type": "code",
        "colab": {}
      },
      "source": [
        "lamda = 0.5"
      ],
      "execution_count": 0,
      "outputs": []
    },
    {
      "cell_type": "code",
      "metadata": {
        "id": "IN2EhdZGD85V",
        "colab_type": "code",
        "colab": {}
      },
      "source": [
        "class Sequence:\n",
        "    def __init__(self, layers : list, rate, loss = 'binary'):\n",
        "        self.Layer = layers\n",
        "        self.Loss = LossSelector(loss)\n",
        "        self.Rate = rate\n",
        "\n",
        "    def predict(self, data):\n",
        "        h = data\n",
        "        for l in self.Layer:\n",
        "            h = l.predict(h)\n",
        "        return h\n",
        "\n",
        "    def forward(self, data):\n",
        "        h = data\n",
        "        for l in self.Layer:\n",
        "            h = l.forward(h)\n",
        "        return h    \n",
        "\n",
        "    def backpropagate(self, a, label):\n",
        "        sigma = self.Loss.diff(label, a)\n",
        "        sum = 0\n",
        "        for l in reversed(self.Layer):\n",
        "            sigma, a = l.backward(a, sigma, self.Rate)\n",
        "            sum += (l.Layer * l.Layer).sum()\n",
        "        return sum / (2 * a.shape[1]) * lamda\n",
        "\n",
        "    def train(self, data, label, epoch, *test):\n",
        "        train_e = []\n",
        "        train_acc = []\n",
        "        test_e = []\n",
        "        test_acc = []\n",
        "        for i in tqdm(range(epoch)):\n",
        "            h = self.forward(data)\n",
        "            if len(test) != 0 : t = self.predict(test[0])\n",
        "            r = self.backpropagate(h, label)\n",
        "            train_e.append(self.Loss.calc(label, h) + r)\n",
        "            train_acc.append(accuracy(h.argmax(axis = 0), label))\n",
        "            if len(test) != 0:\n",
        "                test_e.append(self.Loss.calc(test[1], t) + r)\n",
        "                test_acc.append(accuracy(t.argmax(axis = 0), test[1]))\n",
        "\n",
        "        if len(test) == 0 : return train_e, train_acc\n",
        "        return train_e, train_acc, test_e, test_acc\n",
        "\n",
        "class Linear:\n",
        "    def __init__(self, size, schedule = 'sgd', active = 'sigmoid', bias = False):\n",
        "        self.size = size\n",
        "        self.Layer = cp.random.normal(size = (size[0], size[1] + bias), scale = cp.sqrt(2/(size[0] + size[1]))*4)\n",
        "        self.a = cp.zeros(size[0])\n",
        "        self.bias = bias\n",
        "        self.activation = ActivationSelector(active)\n",
        "        self.scheduler = SchedulerSelector(schedule)\n",
        "\n",
        "    def forward(self, data):\n",
        "        self.a = generator(data, self.bias)\n",
        "        return self.activation.calc(self.Layer@self.a)\n",
        "\n",
        "    def predict(self, data):\n",
        "        return self.activation.calc(self.Layer@generator(data, self.bias))\n",
        "\n",
        "    def backward(self, a, sigma, rate):\n",
        "        sigma = sigma*self.activation.diff(a)\n",
        "        dx = sigma@self.a.transpose()/self.a.shape[1] + lamda * self.Layer / a.shape[1]\n",
        "        t = rate*self.scheduler.grad(dx)\n",
        "        self.Layer -= t\n",
        "        return ((self.Layer.transpose()@sigma)[:len(self.a)-self.bias], self.a[:len(self.a)-self.bias])\n",
        "\n",
        "def accuracy(pred, label):\n",
        "  return (pred == label.argmax(axis = 0)).mean()\n",
        "\n",
        "def generator(data, bias):\n",
        "  return data if not bias else cp.vstack((data, cp.ones((1, data.shape[1]))))\n"
      ],
      "execution_count": 0,
      "outputs": []
    },
    {
      "cell_type": "code",
      "metadata": {
        "id": "ZKFW_wSm2myt",
        "colab_type": "code",
        "colab": {}
      },
      "source": [
        "class Sigmoid:\n",
        "    def __init__(self):\n",
        "        pass\n",
        "\n",
        "    def calc(self, x):\n",
        "        return cp.reciprocal(1 + np.exp(-x))\n",
        "\n",
        "    def diff(self, a):\n",
        "        return a*(1 - a)\n",
        "\n",
        "class ReLU:\n",
        "    def __init__(self):\n",
        "        pass\n",
        "\n",
        "    def calc(self, x):\n",
        "        return np.maximum(-0.1*x, x)\n",
        "\n",
        "    def diff(self, x):\n",
        "        return (x > 0) - (x <= 0)*0.1\n",
        "\n",
        "def ActivationSelector(active):\n",
        "    if active == 'sigmoid': return Sigmoid()\n",
        "    if active == 'relu': return ReLU()\n",
        "    print('ActivationSelector : not found %s' % active)"
      ],
      "execution_count": 0,
      "outputs": []
    },
    {
      "cell_type": "code",
      "metadata": {
        "id": "uI_ofts-2nD8",
        "colab_type": "code",
        "colab": {}
      },
      "source": [
        "class BinaryLoss:\n",
        "    def __init__(self):\n",
        "        pass\n",
        "\n",
        "    def calc(self, label, pred):\n",
        "        return -((label*cp.log(pred) + (1 - label)*cp.log(1 - pred)).sum(axis=0)).mean()\n",
        "\n",
        "    def diff(self, label, pred):\n",
        "        return -label / pred + (1 - label) / (1 - pred)\n",
        "\n",
        "def LossSelector(loss):\n",
        "    if loss == 'binary': return BinaryLoss()\n",
        "    print('LossSelector : not found %s' % loss)"
      ],
      "execution_count": 0,
      "outputs": []
    },
    {
      "cell_type": "code",
      "metadata": {
        "id": "hH-WDAY63w9b",
        "colab_type": "code",
        "colab": {}
      },
      "source": [
        "class SGD():\n",
        "    def __init__(self):\n",
        "        pass\n",
        "\n",
        "    def grad(self, dx):\n",
        "        return dx\n",
        "\n",
        "class RMSprop():\n",
        "    beta = 0.9\n",
        "    eps = 1e-8\n",
        "    def __init__(self):\n",
        "        self.cache = None\n",
        "\n",
        "    def grad(self, dx):\n",
        "        self.cache = (dx*dx) if self.cache is None else (RMSprop.beta * self.cache + (1 - RMSprop.beta) * dx*dx)\n",
        "        return dx/(cp.sqrt(self.cache) + RMSprop.eps)\n",
        "\n",
        "def SchedulerSelector(schedule):\n",
        "    if schedule == 'sgd': return SGD()\n",
        "    if schedule == 'rmsprop': return RMSprop()\n",
        "    print('SchedulerSelector : not found %s' % schedule)"
      ],
      "execution_count": 0,
      "outputs": []
    },
    {
      "cell_type": "code",
      "metadata": {
        "id": "0luEqnvQFRwH",
        "colab_type": "code",
        "colab": {}
      },
      "source": [
        "Model = Sequence([Linear((112, 784), active = 'sigmoid', bias = True, schedule = 'rmsprop'),\n",
        "                  Linear((16, 112),  active = 'sigmoid', bias = True, schedule = 'rmsprop'),\n",
        "                  Linear((10, 16),   active = 'sigmoid', bias = True, schedule = 'rmsprop')],\n",
        "                 0.0001, 'binary')"
      ],
      "execution_count": 0,
      "outputs": []
    },
    {
      "cell_type": "code",
      "metadata": {
        "id": "EZ2mlqgsWEsn",
        "colab_type": "code",
        "outputId": "5ff2aa3e-47b2-46c3-fb4c-d8c5556429d3",
        "colab": {
          "base_uri": "https://localhost:8080/",
          "height": 67,
          "referenced_widgets": [
            "1d4beded920f4972aff6d37f3b9a2809",
            "e06dfce9c33d46f28cb7678329924d47",
            "9c9eecc3361f41d2b373f2a917a3b907",
            "51b09e909298435a99e09eb13662931f",
            "2c6a9b4cb8e14b0987e9b2cab2e237ac",
            "8117fdc1ce0f4dc0887533e0d9c32d99",
            "2c690e4206504742a1db227d55820f53",
            "91f9942bf7c44bb491b6b49e5d4c8d23"
          ]
        }
      },
      "source": [
        "train_e, train_acc, test_e, test_acc= Model.train(list_image[:, :1000], list_label[:, :1000], 15000, list_image[:, 1000:], list_label[:, 1000:])"
      ],
      "execution_count": 9,
      "outputs": [
        {
          "output_type": "display_data",
          "data": {
            "application/vnd.jupyter.widget-view+json": {
              "model_id": "1d4beded920f4972aff6d37f3b9a2809",
              "version_minor": 0,
              "version_major": 2
            },
            "text/plain": [
              "HBox(children=(FloatProgress(value=0.0, max=15000.0), HTML(value='')))"
            ]
          },
          "metadata": {
            "tags": []
          }
        },
        {
          "output_type": "stream",
          "text": [
            "\n"
          ],
          "name": "stdout"
        }
      ]
    },
    {
      "cell_type": "markdown",
      "metadata": {
        "id": "HMZXAWyqzpNr",
        "colab_type": "text"
      },
      "source": [
        "### 1. Plot the loss"
      ]
    },
    {
      "cell_type": "code",
      "metadata": {
        "id": "qLuF20aSxvBZ",
        "colab_type": "code",
        "colab": {
          "base_uri": "https://localhost:8080/",
          "height": 483
        },
        "outputId": "42f2add5-fc73-462e-f6bb-1a6f3db7c4a2"
      },
      "source": [
        "plt.figure(figsize=(8, 8))\n",
        "plt.plot(range(0, len(test_e)), test_e, c = 'r')\n",
        "plt.plot(range(0, len(train_e)), train_e, c = 'b')\n",
        "plt.show()"
      ],
      "execution_count": 10,
      "outputs": [
        {
          "output_type": "display_data",
          "data": {
            "image/png": "[encoded data removed]",
            "text/plain": [
              "<Figure size 576x576 with 1 Axes>"
            ]
          },
          "metadata": {
            "tags": [],
            "needs_background": "light"
          }
        }
      ]
    },
    {
      "cell_type": "markdown",
      "metadata": {
        "id": "z_dYK49HzyY-",
        "colab_type": "text"
      },
      "source": [
        "# 2. Plot the accuracy"
      ]
    },
    {
      "cell_type": "code",
      "metadata": {
        "id": "LaN2hC2dSOoH",
        "colab_type": "code",
        "outputId": "a4a12c60-e4e5-4c26-b808-846e0fc97a4a",
        "colab": {
          "base_uri": "https://localhost:8080/",
          "height": 483
        }
      },
      "source": [
        "plt.figure(figsize=(8, 8))\n",
        "plt.plot(range(0, len(test_acc)), test_acc, c = 'r')\n",
        "plt.plot(range(0, len(train_acc)), train_acc, c = 'b')\n",
        "plt.show()"
      ],
      "execution_count": 11,
      "outputs": [
        {
          "output_type": "display_data",
          "data": {
            "image/png": "[encoded data removed]",
            "text/plain": [
              "<Figure size 576x576 with 1 Axes>"
            ]
          },
          "metadata": {
            "tags": [],
            "needs_background": "light"
          }
        }
      ]
    },
    {
      "cell_type": "markdown",
      "metadata": {
        "id": "A0w0Ty44z286",
        "colab_type": "text"
      },
      "source": [
        "### 3. Plot the final accuracy"
      ]
    },
    {
      "cell_type": "code",
      "metadata": {
        "id": "YyUtmTejDfFx",
        "colab_type": "code",
        "outputId": "0c31c3fa-71e8-4879-9760-e27c5e669c65",
        "colab": {
          "base_uri": "https://localhost:8080/",
          "height": 53
        }
      },
      "source": [
        "print('train accuracy :', train_acc[-1]*100, '%')\n",
        "print('test accuracy :', test_acc[-1]*100, '%')"
      ],
      "execution_count": 12,
      "outputs": [
        {
          "output_type": "stream",
          "text": [
            "train accuracy : 100.0 %\n",
            "test accuracy : 89.42222222222223 %\n"
          ],
          "name": "stdout"
        }
      ]
    },
    {
      "cell_type": "code",
      "metadata": {
        "id": "QXZuacgV5v25",
        "colab_type": "code",
        "colab": {}
      },
      "source": [
        "def print_image(image, label, pred):\n",
        "  plt.imshow(image)\n",
        "  plt.xticks([])\n",
        "  plt.yticks([])\n",
        "  plt.grid(False)\n",
        "  plt.xlabel(\"label : {}\\n pred : {}\".format(label, pred))"
      ],
      "execution_count": 0,
      "outputs": []
    },
    {
      "cell_type": "markdown",
      "metadata": {
        "id": "WVnnUZTB9hwU",
        "colab_type": "text"
      },
      "source": [
        "### 4. Plot the classification"
      ]
    },
    {
      "cell_type": "markdown",
      "metadata": {
        "id": "cTPZuW0r9wFG",
        "colab_type": "text"
      },
      "source": [
        "* Case : Correct"
      ]
    },
    {
      "cell_type": "code",
      "metadata": {
        "id": "Ij2EINAh7v--",
        "colab_type": "code",
        "colab": {
          "base_uri": "https://localhost:8080/",
          "height": 252
        },
        "outputId": "ef28ff75-1546-45b8-9bdb-2cf78aa34f7b"
      },
      "source": [
        "plt.figure(figsize=(8,4))\n",
        "pred = Model.predict(list_image[:,1000:]).argmax(axis=0)\n",
        "real = list_labels[1000:]\n",
        "i = 0\n",
        "for t in range(len(pred)):\n",
        "  if pred[t] != real[t]: continue\n",
        "  if i == 10 : break\n",
        "  plt.subplot(2,5,i + 1)\n",
        "  image = list_image.transpose()[t].reshape((28, 28))\n",
        "  print_image(image, real[t], pred[t])\n",
        "  i += 1\n",
        "plt.show()"
      ],
      "execution_count": 20,
      "outputs": [
        {
          "output_type": "display_data",
          "data": {
            "image/png": "[encoded data removed]",
            "text/plain": [
              "<Figure size 576x288 with 10 Axes>"
            ]
          },
          "metadata": {
            "tags": []
          }
        }
      ]
    },
    {
      "cell_type": "markdown",
      "metadata": {
        "id": "0dFsIXrH91OY",
        "colab_type": "text"
      },
      "source": [
        "* Case : Wrong"
      ]
    },
    {
      "cell_type": "code",
      "metadata": {
        "id": "oEbfzr4W7xoR",
        "colab_type": "code",
        "colab": {
          "base_uri": "https://localhost:8080/",
          "height": 252
        },
        "outputId": "e49aa19f-2246-407c-fc23-8b0604bed1cb"
      },
      "source": [
        "plt.figure(figsize=(8,4))\n",
        "i = 0\n",
        "for t in range(len(pred)):\n",
        "  if pred[t] == real[t]: continue\n",
        "  if i == 10 : break\n",
        "  plt.subplot(2,5,i + 1)\n",
        "  image = list_image.transpose()[t].reshape((28, 28))\n",
        "  print_image(image, real[t], pred[t])\n",
        "  i += 1\n",
        "plt.show()"
      ],
      "execution_count": 21,
      "outputs": [
        {
          "output_type": "display_data",
          "data": {
            "image/png": "[encoded data removed]",
            "text/plain": [
              "<Figure size 576x288 with 10 Axes>"
            ]
          },
          "metadata": {
            "tags": []
          }
        }
      ]
    }
  ]
}