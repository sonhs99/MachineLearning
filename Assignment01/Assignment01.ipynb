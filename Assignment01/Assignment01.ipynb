{
  "nbformat": 4,
  "nbformat_minor": 0,
  "metadata": {
    "colab": {
      "name": "Assignment01",
      "provenance": [],
      "collapsed_sections": [],
      "toc_visible": true,
      "authorship_tag": "ABX9TyMg2qvRcqGeNsx61rHM84zt"
    },
    "kernelspec": {
      "name": "python3",
      "display_name": "Python 3"
    }
  },
  "cells": [
    {
      "cell_type": "markdown",
      "metadata": {
        "id": "eCCbjvHzB_Me",
        "colab_type": "text"
      },
      "source": [
        "# Assignment 01\n",
        "---\n",
        "1. Generate Test Set"
      ]
    },
    {
      "cell_type": "code",
      "metadata": {
        "id": "f65WVOCJCNjZ",
        "colab_type": "code",
        "outputId": "e2ea1293-79ae-4e35-9221-33b036996b89",
        "colab": {
          "base_uri": "https://localhost:8080/",
          "height": 265
        }
      },
      "source": [
        "import numpy as np\n",
        "from matplotlib import pyplot as plt\n",
        "\n",
        "a = 2\n",
        "b = 7\n",
        "x = 20 * np.random.randn(100)\n",
        "y = a * x + b + 20 * np.random.randn(100)\n",
        "\n",
        "plt.scatter(x, y, c='k')\n",
        "plt.plot(x, a*x + b, 'b')\n",
        "\n",
        "plt.show()"
      ],
      "execution_count": 0,
      "outputs": [
        {
          "output_type": "display_data",
          "data": {
            "image/png": "[encoded data removed]",
            "text/plain": [
              "<Figure size 432x288 with 1 Axes>"
            ]
          },
          "metadata": {
            "tags": []
          }
        }
      ]
    },
    {
      "cell_type": "markdown",
      "metadata": {
        "id": "KYgSlEqhIdZY",
        "colab_type": "text"
      },
      "source": [
        "2. Make model and test/learning"
      ]
    },
    {
      "cell_type": "code",
      "metadata": {
        "id": "v_0RqMI5I1mJ",
        "colab_type": "code",
        "outputId": "a3f8ad4d-d11d-4c77-e661-7233c3f0afe7",
        "colab": {
          "base_uri": "https://localhost:8080/",
          "height": 283
        }
      },
      "source": [
        "theta_a = [np.random.randint(1, 100)]\n",
        "theta_b = [np.random.randint(1, 100)]\n",
        "e_list = [0]\n",
        "alpha = 0.0001\n",
        "\n",
        "def energy(x, y, theta_a, theta_b):\n",
        "  sum = 0\n",
        "  for x_, y_ in zip(x, y):\n",
        "    tmp = theta_a * x_ + theta_b - y_\n",
        "    sum += tmp * tmp\n",
        "  return sum / 200\n",
        "\n",
        "e_tmp = energy(x, y, theta_a[-1], theta_b[-1])\n",
        "\n",
        "while e_list[-1] != e_tmp:\n",
        "  e_list.append(e_tmp)\n",
        "  theta_a.append(theta_a[-1])\n",
        "  theta_b.append(theta_b[-1])\n",
        "\n",
        "  for x_, y_ in zip(x, y):\n",
        "    theta_a[-1] -= alpha * (theta_a[-1] * x_ + theta_b[-1] - y_) * x_ / len(x)\n",
        "    theta_b[-1] -= alpha * (theta_a[-1] * x_ + theta_b[-1] - y_) / len(x)\n",
        "\n",
        "  e_tmp = energy(x, y, theta_a[-1], theta_b[-1])\n",
        "\n",
        "plt.scatter(x, y, c='k')\n",
        "plt.plot(x, a*x + b, 'b')\n",
        "plt.plot(x, theta_a[-1]*x + theta_b[-1], 'r')\n",
        "\n",
        "plt.show()"
      ],
      "execution_count": 0,
      "outputs": [
        {
          "output_type": "stream",
          "text": [
            "207.63267883862216\n"
          ],
          "name": "stdout"
        },
        {
          "output_type": "display_data",
          "data": {
            "image/png": "[encoded data removed]",
            "text/plain": [
              "<Figure size 432x288 with 1 Axes>"
            ]
          },
          "metadata": {
            "tags": []
          }
        }
      ]
    },
    {
      "cell_type": "markdown",
      "metadata": {
        "id": "j6f-EsRoc88J",
        "colab_type": "text"
      },
      "source": [
        "3. Plotting Energy value\n",
        "\n"
      ]
    },
    {
      "cell_type": "code",
      "metadata": {
        "id": "0EKoTTs9dN7o",
        "colab_type": "code",
        "outputId": "1f3fab75-0cb5-4e98-fc36-e33469e3c782",
        "colab": {
          "base_uri": "https://localhost:8080/",
          "height": 265
        }
      },
      "source": [
        "plt.plot([x for x in range(1, len(e_list) + 1)], e_list, 'b')\n",
        "\n",
        "plt.show()"
      ],
      "execution_count": 0,
      "outputs": [
        {
          "output_type": "display_data",
          "data": {
            "image/png": "[encoded data removed]",
            "text/plain": [
              "<Figure size 432x288 with 1 Axes>"
            ]
          },
          "metadata": {
            "tags": []
          }
        }
      ]
    },
    {
      "cell_type": "markdown",
      "metadata": {
        "id": "uHmzHz8ldu7g",
        "colab_type": "text"
      },
      "source": [
        "4. Plotting Model Parameter"
      ]
    },
    {
      "cell_type": "code",
      "metadata": {
        "id": "2JvfdqB1fJ6s",
        "colab_type": "code",
        "outputId": "175221af-e37c-47ba-cad3-34b88be254df",
        "colab": {
          "base_uri": "https://localhost:8080/",
          "height": 265
        }
      },
      "source": [
        "plt.plot([x for x in range(1, len(theta_b) + 1)], [x - b for x in theta_b], 'r')\n",
        "plt.plot([x for x in range(1, len(theta_a) + 1)], [x - a for x in theta_a], 'b')\n",
        "\n",
        "plt.show()"
      ],
      "execution_count": 0,
      "outputs": [
        {
          "output_type": "display_data",
          "data": {
            "image/png": "[encoded data removed]",
            "text/plain": [
              "<Figure size 432x288 with 1 Axes>"
            ]
          },
          "metadata": {
            "tags": []
          }
        }
      ]
    }
  ]
}