{
  "nbformat": 4,
  "nbformat_minor": 0,
  "metadata": {
    "colab": {
      "name": "Assignment01",
      "provenance": [],
      "collapsed_sections": [],
      "toc_visible": true,
      "authorship_tag": "ABX9TyMitjkuB9bouNnTCxrjDA9r",
      "include_colab_link": true
    },
    "kernelspec": {
      "name": "python3",
      "display_name": "Python 3"
    }
  },
  "cells": [
    {
      "cell_type": "markdown",
      "metadata": {
        "id": "view-in-github",
        "colab_type": "text"
      },
      "source": [
        "<a href=\"https://colab.research.google.com/github/sonhs99/MachineLearning/blob/master/Assignment01.ipynb\" target=\"_parent\"><img src=\"https://colab.research.google.com/assets/colab-badge.svg\" alt=\"Open In Colab\"/></a>"
      ]
    },
    {
      "cell_type": "markdown",
      "metadata": {
        "id": "eCCbjvHzB_Me",
        "colab_type": "text"
      },
      "source": [
        "# Assignment 01\n",
        "---\n",
        "1. Generate Test Set"
      ]
    },
    {
      "cell_type": "code",
      "metadata": {
        "id": "f65WVOCJCNjZ",
        "colab_type": "code",
        "colab": {
          "base_uri": "https://localhost:8080/",
          "height": 266
        },
        "outputId": "9235eb92-b1ff-46be-af3c-71e02011cd54"
      },
      "source": [
        "import numpy as np\n",
        "from matplotlib import pyplot as plt\n",
        "\n",
        "a = 5\n",
        "b = 6\n",
        "x = 20 * np.random.randn(100)\n",
        "y = a * x + b + 20 * np.random.randn(100)\n",
        "\n",
        "plt.scatter(x, y, c='k')\n",
        "plt.plot(x, a*x + b, 'r')\n",
        "\n",
        "plt.show()"
      ],
      "execution_count": 2,
      "outputs": [
        {
          "output_type": "display_data",
          "data": {
            "image/png": "[encoded data removed]",
            "text/plain": [
              "<Figure size 432x288 with 1 Axes>"
            ]
          },
          "metadata": {
            "tags": []
          }
        }
      ]
    },
    {
      "cell_type": "markdown",
      "metadata": {
        "id": "KYgSlEqhIdZY",
        "colab_type": "text"
      },
      "source": [
        "2. Make model and test/learning"
      ]
    },
    {
      "cell_type": "code",
      "metadata": {
        "id": "v_0RqMI5I1mJ",
        "colab_type": "code",
        "colab": {
          "base_uri": "https://localhost:8080/",
          "height": 283
        },
        "outputId": "4e1056ea-5af9-48b3-8dfd-85f01456814b"
      },
      "source": [
        "theta_a = [np.random.randint(1, 20)]\n",
        "theta_b = [np.random.randint(1, 20)]\n",
        "e_list = [0]\n",
        "alpha = 0.00015\n",
        "epsilon = 0.00000000000000001\n",
        "\n",
        "def energy(x, y, theta_a, theta_b):\n",
        "  sum = 0\n",
        "  for x_, y_ in zip(x, y):\n",
        "    tmp = theta_a * x_ + theta_b - y_\n",
        "    sum += tmp * tmp\n",
        "  return sum / 200\n",
        "\n",
        "e_tmp = energy(x, y, theta_a[-1], theta_b[-1])\n",
        "\n",
        "while np.abs(e_list[-1] - e_tmp) > epsilon:\n",
        "  e_list.append(e_tmp)\n",
        "  theta_a.append(theta_a[-1])\n",
        "  theta_b.append(theta_b[-1])\n",
        "\n",
        "  for x_, y_ in zip(x, y):\n",
        "    theta_a[-1] -= alpha * (theta_a[-1] * x_ + theta_b[-1] - y_) * x_ / 100\n",
        "    theta_b[-1] -= alpha * (theta_a[-1] * x_ + theta_b[-1] - y_) / 100\n",
        "\n",
        "  e_tmp = energy(x, y, theta_a[-1], theta_b[-1])\n",
        "\n",
        "print(e_tmp)\n",
        "\n",
        "plt.plot([x for x in range(1, len(theta_a) + 1)], theta_a, 'b')\n",
        "plt.plot([x for x in range(1, len(theta_b) + 1)], theta_b, 'g')\n",
        "plt.show()"
      ],
      "execution_count": 7,
      "outputs": [
        {
          "output_type": "stream",
          "text": [
            "197.3564057435747\n"
          ],
          "name": "stdout"
        },
        {
          "output_type": "display_data",
          "data": {
            "image/png": "[encoded data removed]",
            "text/plain": [
              "<Figure size 432x288 with 1 Axes>"
            ]
          },
          "metadata": {
            "tags": []
          }
        }
      ]
    },
    {
      "cell_type": "markdown",
      "metadata": {
        "id": "uHmzHz8ldu7g",
        "colab_type": "text"
      },
      "source": [
        "4. Plotting expected line"
      ]
    },
    {
      "cell_type": "code",
      "metadata": {
        "id": "0EKoTTs9dN7o",
        "colab_type": "code",
        "colab": {
          "base_uri": "https://localhost:8080/",
          "height": 265
        },
        "outputId": "1549c365-23d8-4b86-89fb-f1741a812492"
      },
      "source": [
        "plt.plot([x for x in range(1, len(e_list) + 1)], e_list, 'b')\n",
        "\n",
        "plt.show()"
      ],
      "execution_count": 8,
      "outputs": [
        {
          "output_type": "display_data",
          "data": {
            "image/png": "[encoded data removed]",
            "text/plain": [
              "<Figure size 432x288 with 1 Axes>"
            ]
          },
          "metadata": {
            "tags": []
          }
        }
      ]
    },
    {
      "cell_type": "markdown",
      "metadata": {
        "id": "j6f-EsRoc88J",
        "colab_type": "text"
      },
      "source": [
        "3. Plotting Energy value\n",
        "\n"
      ]
    }
  ]
}