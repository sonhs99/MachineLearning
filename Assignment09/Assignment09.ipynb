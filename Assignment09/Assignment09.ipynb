{
  "nbformat": 4,
  "nbformat_minor": 0,
  "metadata": {
    "colab": {
      "name": "Assignment09",
      "provenance": [],
      "collapsed_sections": [],
      "authorship_tag": "ABX9TyMiJl6ZTjZ8a9ebOWD8QrNs",
      "include_colab_link": true
    },
    "kernelspec": {
      "name": "python3",
      "display_name": "Python 3"
    },
    "accelerator": "GPU",
    "widgets": {
      "application/vnd.jupyter.widget-state+json": {
        "240ce8fc519f48e0ba6dec1908313c64": {
          "model_module": "@jupyter-widgets/controls",
          "model_name": "HBoxModel",
          "state": {
            "_view_name": "HBoxView",
            "_dom_classes": [],
            "_model_name": "HBoxModel",
            "_view_module": "@jupyter-widgets/controls",
            "_model_module_version": "1.5.0",
            "_view_count": null,
            "_view_module_version": "1.5.0",
            "box_style": "",
            "layout": "IPY_MODEL_b079213bd98d447bb466200996730a36",
            "_model_module": "@jupyter-widgets/controls",
            "children": [
              "IPY_MODEL_99a63bb7626e4de099a8d880d0051426",
              "IPY_MODEL_3a2d048657ba494fa2e16170e2069664"
            ]
          }
        },
        "b079213bd98d447bb466200996730a36": {
          "model_module": "@jupyter-widgets/base",
          "model_name": "LayoutModel",
          "state": {
            "_view_name": "LayoutView",
            "grid_template_rows": null,
            "right": null,
            "justify_content": null,
            "_view_module": "@jupyter-widgets/base",
            "overflow": null,
            "_model_module_version": "1.2.0",
            "_view_count": null,
            "flex_flow": null,
            "width": null,
            "min_width": null,
            "border": null,
            "align_items": null,
            "bottom": null,
            "_model_module": "@jupyter-widgets/base",
            "top": null,
            "grid_column": null,
            "overflow_y": null,
            "overflow_x": null,
            "grid_auto_flow": null,
            "grid_area": null,
            "grid_template_columns": null,
            "flex": null,
            "_model_name": "LayoutModel",
            "justify_items": null,
            "grid_row": null,
            "max_height": null,
            "align_content": null,
            "visibility": null,
            "align_self": null,
            "height": null,
            "min_height": null,
            "padding": null,
            "grid_auto_rows": null,
            "grid_gap": null,
            "max_width": null,
            "order": null,
            "_view_module_version": "1.2.0",
            "grid_template_areas": null,
            "object_position": null,
            "object_fit": null,
            "grid_auto_columns": null,
            "margin": null,
            "display": null,
            "left": null
          }
        },
        "99a63bb7626e4de099a8d880d0051426": {
          "model_module": "@jupyter-widgets/controls",
          "model_name": "FloatProgressModel",
          "state": {
            "_view_name": "ProgressView",
            "style": "IPY_MODEL_938727b0fb814b608227a9f48c2f8a2f",
            "_dom_classes": [],
            "description": "100%",
            "_model_name": "FloatProgressModel",
            "bar_style": "success",
            "max": 15000,
            "_view_module": "@jupyter-widgets/controls",
            "_model_module_version": "1.5.0",
            "value": 15000,
            "_view_count": null,
            "_view_module_version": "1.5.0",
            "orientation": "horizontal",
            "min": 0,
            "description_tooltip": null,
            "_model_module": "@jupyter-widgets/controls",
            "layout": "IPY_MODEL_cef7a422b1974b4fae2b9ffd53a47a5d"
          }
        },
        "3a2d048657ba494fa2e16170e2069664": {
          "model_module": "@jupyter-widgets/controls",
          "model_name": "HTMLModel",
          "state": {
            "_view_name": "HTMLView",
            "style": "IPY_MODEL_3367b0bf10824ae1b40a725dc15be276",
            "_dom_classes": [],
            "description": "",
            "_model_name": "HTMLModel",
            "placeholder": "​",
            "_view_module": "@jupyter-widgets/controls",
            "_model_module_version": "1.5.0",
            "value": " 15000/15000 [07:22&lt;00:00, 33.92it/s]",
            "_view_count": null,
            "_view_module_version": "1.5.0",
            "description_tooltip": null,
            "_model_module": "@jupyter-widgets/controls",
            "layout": "IPY_MODEL_3a2f6991493f4ce6a574965f5b432416"
          }
        },
        "938727b0fb814b608227a9f48c2f8a2f": {
          "model_module": "@jupyter-widgets/controls",
          "model_name": "ProgressStyleModel",
          "state": {
            "_view_name": "StyleView",
            "_model_name": "ProgressStyleModel",
            "description_width": "initial",
            "_view_module": "@jupyter-widgets/base",
            "_model_module_version": "1.5.0",
            "_view_count": null,
            "_view_module_version": "1.2.0",
            "bar_color": null,
            "_model_module": "@jupyter-widgets/controls"
          }
        },
        "cef7a422b1974b4fae2b9ffd53a47a5d": {
          "model_module": "@jupyter-widgets/base",
          "model_name": "LayoutModel",
          "state": {
            "_view_name": "LayoutView",
            "grid_template_rows": null,
            "right": null,
            "justify_content": null,
            "_view_module": "@jupyter-widgets/base",
            "overflow": null,
            "_model_module_version": "1.2.0",
            "_view_count": null,
            "flex_flow": null,
            "width": null,
            "min_width": null,
            "border": null,
            "align_items": null,
            "bottom": null,
            "_model_module": "@jupyter-widgets/base",
            "top": null,
            "grid_column": null,
            "overflow_y": null,
            "overflow_x": null,
            "grid_auto_flow": null,
            "grid_area": null,
            "grid_template_columns": null,
            "flex": null,
            "_model_name": "LayoutModel",
            "justify_items": null,
            "grid_row": null,
            "max_height": null,
            "align_content": null,
            "visibility": null,
            "align_self": null,
            "height": null,
            "min_height": null,
            "padding": null,
            "grid_auto_rows": null,
            "grid_gap": null,
            "max_width": null,
            "order": null,
            "_view_module_version": "1.2.0",
            "grid_template_areas": null,
            "object_position": null,
            "object_fit": null,
            "grid_auto_columns": null,
            "margin": null,
            "display": null,
            "left": null
          }
        },
        "3367b0bf10824ae1b40a725dc15be276": {
          "model_module": "@jupyter-widgets/controls",
          "model_name": "DescriptionStyleModel",
          "state": {
            "_view_name": "StyleView",
            "_model_name": "DescriptionStyleModel",
            "description_width": "",
            "_view_module": "@jupyter-widgets/base",
            "_model_module_version": "1.5.0",
            "_view_count": null,
            "_view_module_version": "1.2.0",
            "_model_module": "@jupyter-widgets/controls"
          }
        },
        "3a2f6991493f4ce6a574965f5b432416": {
          "model_module": "@jupyter-widgets/base",
          "model_name": "LayoutModel",
          "state": {
            "_view_name": "LayoutView",
            "grid_template_rows": null,
            "right": null,
            "justify_content": null,
            "_view_module": "@jupyter-widgets/base",
            "overflow": null,
            "_model_module_version": "1.2.0",
            "_view_count": null,
            "flex_flow": null,
            "width": null,
            "min_width": null,
            "border": null,
            "align_items": null,
            "bottom": null,
            "_model_module": "@jupyter-widgets/base",
            "top": null,
            "grid_column": null,
            "overflow_y": null,
            "overflow_x": null,
            "grid_auto_flow": null,
            "grid_area": null,
            "grid_template_columns": null,
            "flex": null,
            "_model_name": "LayoutModel",
            "justify_items": null,
            "grid_row": null,
            "max_height": null,
            "align_content": null,
            "visibility": null,
            "align_self": null,
            "height": null,
            "min_height": null,
            "padding": null,
            "grid_auto_rows": null,
            "grid_gap": null,
            "max_width": null,
            "order": null,
            "_view_module_version": "1.2.0",
            "grid_template_areas": null,
            "object_position": null,
            "object_fit": null,
            "grid_auto_columns": null,
            "margin": null,
            "display": null,
            "left": null
          }
        }
      }
    }
  },
  "cells": [
    {
      "cell_type": "markdown",
      "metadata": {
        "id": "view-in-github",
        "colab_type": "text"
      },
      "source": [
        "<a href=\"https://colab.research.google.com/github/sonhs99/MachineLearning/blob/master/Assignment09/Assignment09.ipynb\" target=\"_parent\"><img src=\"https://colab.research.google.com/assets/colab-badge.svg\" alt=\"Open In Colab\"/></a>"
      ]
    },
    {
      "cell_type": "markdown",
      "metadata": {
        "id": "HaXPhnA7xU2u",
        "colab_type": "text"
      },
      "source": [
        "### Assignment09"
      ]
    },
    {
      "cell_type": "markdown",
      "metadata": {
        "id": "BOykv3DVxf49",
        "colab_type": "text"
      },
      "source": [
        "# 0. Import Library, Get Data"
      ]
    },
    {
      "cell_type": "code",
      "metadata": {
        "id": "4qPH6LDODCp1",
        "colab_type": "code",
        "colab": {}
      },
      "source": [
        "from google.colab import files\n",
        "import matplotlib.pyplot as plt\n",
        "import numpy as np\n",
        "import cupy as cp\n",
        "import random\n",
        "from tqdm.auto import tqdm"
      ],
      "execution_count": 0,
      "outputs": []
    },
    {
      "cell_type": "code",
      "metadata": {
        "id": "ZCDkj8TIVzz8",
        "colab_type": "code",
        "colab": {}
      },
      "source": [
        "file_data   = \"sample_data/mnist_test.csv\"\n",
        "handle_file = open(file_data, \"r\")\n",
        "data        = handle_file.readlines()\n",
        "handle_file.close()\n",
        "\n",
        "size_row    = 28    # height of the image\n",
        "size_col    = 28    # width of the image\n",
        "\n",
        "num_image   = len(data)\n",
        "count       = 0     # count for the number of images\n",
        "\n",
        "#\n",
        "# normalize the values of the input data to be [0, 1]\n",
        "#\n",
        "def normalize(data):\n",
        "\n",
        "    data_normalized = (data - min(data)) / (max(data) - min(data))\n",
        "\n",
        "    return(data_normalized)\n",
        "\n",
        "#\n",
        "# example of distance function between two vectors x and y\n",
        "#\n",
        "def distance(x, y):\n",
        "\n",
        "    d = (x - y) ** 2\n",
        "    s = np.sum(d)\n",
        "    # r = np.sqrt(s)\n",
        "\n",
        "    return(s)\n",
        "\n",
        "#\n",
        "# make a matrix each column of which represents an images in a vector form\n",
        "#\n",
        "list_image  = np.empty((size_row * size_col, num_image), dtype=float)\n",
        "list_labels  = np.empty(num_image, dtype=int)\n",
        "\n",
        "for line in data:\n",
        "\n",
        "    line_data   = line.split(',')\n",
        "    label       = line_data[0]\n",
        "    im_vector   = np.asfarray(line_data[1:])\n",
        "    im_vector   = normalize(im_vector)\n",
        "\n",
        "    list_labels[count]       = label\n",
        "    list_image[:, count]    = im_vector\n",
        "\n",
        "    count += 1\n",
        "\n",
        "list_label = cp.zeros((10, num_image))\n",
        "for i in range(num_image):\n",
        "  list_label[list_labels[i]][i] = 1"
      ],
      "execution_count": 0,
      "outputs": []
    },
    {
      "cell_type": "code",
      "metadata": {
        "id": "MHN3-J8JmwBE",
        "colab_type": "code",
        "colab": {}
      },
      "source": [
        "lamda = 0.5"
      ],
      "execution_count": 0,
      "outputs": []
    },
    {
      "cell_type": "code",
      "metadata": {
        "id": "IN2EhdZGD85V",
        "colab_type": "code",
        "colab": {}
      },
      "source": [
        "class Sequence:\n",
        "    def __init__(self, layers : list, rate, loss = 'binary'):\n",
        "        self.Layer = layers\n",
        "        self.Loss = LossSelector(loss)\n",
        "        self.Rate = rate\n",
        "\n",
        "    def predict(self, data):\n",
        "        h = data\n",
        "        for l in self.Layer:\n",
        "            h = l.predict(h)\n",
        "        return h\n",
        "\n",
        "    def forward(self, data):\n",
        "        h = data\n",
        "        for l in self.Layer:\n",
        "            h = l.forward(h)\n",
        "        return h    \n",
        "\n",
        "    def backpropagate(self, a, label):\n",
        "        sigma = self.Loss.diff(label, a)\n",
        "        sum = 0\n",
        "        for l in reversed(self.Layer):\n",
        "            sigma, a = l.backward(a, sigma, self.Rate)\n",
        "            sum += (l.Layer * l.Layer).sum()\n",
        "        return sum / (2 * a.shape[1]) * lamda\n",
        "\n",
        "    def train(self, data, label, epoch, *test):\n",
        "        train_e = []\n",
        "        train_acc = []\n",
        "        test_e = []\n",
        "        test_acc = []\n",
        "        for i in tqdm(range(epoch)):\n",
        "            h = self.forward(data)\n",
        "            if len(test) != 0 : t = self.predict(test[0])\n",
        "            r = self.backpropagate(h, label)\n",
        "            train_e.append(self.Loss.calc(label, h) + r)\n",
        "            train_acc.append(accuracy(h.argmax(axis = 0), label))\n",
        "            if len(test) != 0:\n",
        "                test_e.append(self.Loss.calc(test[1], t) + r)\n",
        "                test_acc.append(accuracy(t.argmax(axis = 0), test[1]))\n",
        "\n",
        "        if len(test) == 0 : return train_e, train_acc\n",
        "        return train_e, train_acc, test_e, test_acc\n",
        "\n",
        "class Linear:\n",
        "    def __init__(self, size, schedule = 'sgd', active = 'sigmoid', bias = False):\n",
        "        self.size = size\n",
        "        self.Layer = cp.random.normal(size = (size[0], size[1] + bias), scale = cp.sqrt(2/(size[0] + size[1]))*4)\n",
        "        self.a = cp.zeros(size[0])\n",
        "        self.bias = bias\n",
        "        self.activation = ActivationSelector(active)\n",
        "        self.scheduler = SchedulerSelector(schedule)\n",
        "\n",
        "    def forward(self, data):\n",
        "        self.a = generator(data, self.bias)\n",
        "        return self.activation.calc(self.Layer@self.a)\n",
        "\n",
        "    def predict(self, data):\n",
        "        return self.activation.calc(self.Layer@generator(data, self.bias))\n",
        "\n",
        "    def backward(self, a, sigma, rate):\n",
        "        sigma = sigma*self.activation.diff(a)\n",
        "        dx = sigma@self.a.transpose()/self.a.shape[1] + lamda * self.Layer / a.shape[1]\n",
        "        t = rate*self.scheduler.grad(dx)\n",
        "        self.Layer -= t\n",
        "        return ((self.Layer.transpose()@sigma)[:len(self.a)-self.bias], self.a[:len(self.a)-self.bias])\n",
        "\n",
        "def accuracy(pred, label):\n",
        "  return (pred == label.argmax(axis = 0)).mean()\n",
        "\n",
        "def generator(data, bias):\n",
        "  return data if not bias else cp.vstack((data, cp.ones((1, data.shape[1]))))\n"
      ],
      "execution_count": 0,
      "outputs": []
    },
    {
      "cell_type": "code",
      "metadata": {
        "id": "ZKFW_wSm2myt",
        "colab_type": "code",
        "colab": {}
      },
      "source": [
        "class Sigmoid:\n",
        "    def __init__(self):\n",
        "        pass\n",
        "\n",
        "    def calc(self, x):\n",
        "        return cp.reciprocal(1 + np.exp(-x))\n",
        "\n",
        "    def diff(self, a):\n",
        "        return a*(1 - a)\n",
        "\n",
        "class ReLU:\n",
        "    def __init__(self):\n",
        "        pass\n",
        "\n",
        "    def calc(self, x):\n",
        "        return np.maximum(-0.1*x, x)\n",
        "\n",
        "    def diff(self, x):\n",
        "        return (x > 0) - (x <= 0)*0.1\n",
        "\n",
        "def ActivationSelector(active):\n",
        "    if active == 'sigmoid': return Sigmoid()\n",
        "    if active == 'relu': return ReLU()\n",
        "    print('ActivationSelector : not found %s' % active)"
      ],
      "execution_count": 0,
      "outputs": []
    },
    {
      "cell_type": "code",
      "metadata": {
        "id": "uI_ofts-2nD8",
        "colab_type": "code",
        "colab": {}
      },
      "source": [
        "class BinaryLoss:\n",
        "    def __init__(self):\n",
        "        pass\n",
        "\n",
        "    def calc(self, label, pred):\n",
        "        return -((label*cp.log(pred) + (1 - label)*cp.log(1 - pred)).sum(axis=0)).mean()\n",
        "\n",
        "    def diff(self, label, pred):\n",
        "        return -label / pred + (1 - label) / (1 - pred)\n",
        "\n",
        "def LossSelector(loss):\n",
        "    if loss == 'binary': return BinaryLoss()\n",
        "    print('LossSelector : not found %s' % loss)"
      ],
      "execution_count": 0,
      "outputs": []
    },
    {
      "cell_type": "code",
      "metadata": {
        "id": "hH-WDAY63w9b",
        "colab_type": "code",
        "colab": {}
      },
      "source": [
        "class SGD():\n",
        "    def __init__(self):\n",
        "        pass\n",
        "\n",
        "    def grad(self, dx):\n",
        "        return dx\n",
        "\n",
        "class RMSprop():\n",
        "    beta = 0.9\n",
        "    eps = 1e-8\n",
        "    def __init__(self):\n",
        "        self.cache = None\n",
        "\n",
        "    def grad(self, dx):\n",
        "        self.cache = (dx*dx) if self.cache is None else (RMSprop.beta * self.cache + (1 - RMSprop.beta) * dx*dx)\n",
        "        return dx/(cp.sqrt(self.cache) + RMSprop.eps)\n",
        "\n",
        "def SchedulerSelector(schedule):\n",
        "    if schedule == 'sgd': return SGD()\n",
        "    if schedule == 'rmsprop': return RMSprop()\n",
        "    print('SchedulerSelector : not found %s' % schedule)"
      ],
      "execution_count": 0,
      "outputs": []
    },
    {
      "cell_type": "code",
      "metadata": {
        "id": "0luEqnvQFRwH",
        "colab_type": "code",
        "colab": {}
      },
      "source": [
        "Model = Sequence([Linear((112, 784), active = 'sigmoid', bias = True, schedule = 'rmsprop'),\n",
        "                  Linear((16, 112),  active = 'sigmoid', bias = True, schedule = 'rmsprop'),\n",
        "                  Linear((10, 16),   active = 'sigmoid', bias = True, schedule = 'rmsprop')],\n",
        "                 0.0001, 'binary')"
      ],
      "execution_count": 0,
      "outputs": []
    },
    {
      "cell_type": "code",
      "metadata": {
        "id": "EZ2mlqgsWEsn",
        "colab_type": "code",
        "outputId": "eb2fd2e3-1f57-466c-8682-3ae3e5e520bf",
        "colab": {
          "base_uri": "https://localhost:8080/",
          "height": 533,
          "referenced_widgets": [
            "240ce8fc519f48e0ba6dec1908313c64",
            "b079213bd98d447bb466200996730a36",
            "99a63bb7626e4de099a8d880d0051426",
            "3a2d048657ba494fa2e16170e2069664",
            "938727b0fb814b608227a9f48c2f8a2f",
            "cef7a422b1974b4fae2b9ffd53a47a5d",
            "3367b0bf10824ae1b40a725dc15be276",
            "3a2f6991493f4ce6a574965f5b432416"
          ]
        }
      },
      "source": [
        "train_e, train_acc, test_e, test_acc= Model.train(list_image[:, :1000], list_label[:, :1000], 15000, list_image[:, 1000:], list_label[:, 1000:])"
      ],
      "execution_count": 0,
      "outputs": [
        {
          "output_type": "display_data",
          "data": {
            "application/vnd.jupyter.widget-view+json": {
              "model_id": "240ce8fc519f48e0ba6dec1908313c64",
              "version_minor": 0,
              "version_major": 2
            },
            "text/plain": [
              "HBox(children=(FloatProgress(value=0.0, max=15000.0), HTML(value='')))"
            ]
          },
          "metadata": {
            "tags": []
          }
        },
        {
          "output_type": "stream",
          "text": [
            "\n"
          ],
          "name": "stdout"
        },
        {
          "output_type": "display_data",
          "data": {
            "image/png": "[encoded data removed]",
            "text/plain": [
              "<Figure size 576x576 with 1 Axes>"
            ]
          },
          "metadata": {
            "tags": [],
            "needs_background": "light"
          }
        }
      ]
    },
    {
      "cell_type": "code",
      "metadata": {
        "id": "qLuF20aSxvBZ",
        "colab_type": "code",
        "colab": {}
      },
      "source": [
        "plt.figure(figsize=(8, 8))\n",
        "plt.plot(range(0, len(test_e)), test_e, c = 'r')\n",
        "plt.plot(range(0, len(train_e)), train_e, c = 'b')\n",
        "plt.show()"
      ],
      "execution_count": 0,
      "outputs": []
    },
    {
      "cell_type": "code",
      "metadata": {
        "id": "LaN2hC2dSOoH",
        "colab_type": "code",
        "outputId": "c62509d8-ce0d-43fa-97b1-8ef6d12b3447",
        "colab": {
          "base_uri": "https://localhost:8080/",
          "height": 483
        }
      },
      "source": [
        "plt.figure(figsize=(8, 8))\n",
        "plt.plot(range(0, len(test_acc)), test_acc, c = 'r')\n",
        "plt.plot(range(0, len(train_acc)), train_acc, c = 'b')\n",
        "plt.show()"
      ],
      "execution_count": 0,
      "outputs": [
        {
          "output_type": "display_data",
          "data": {
            "image/png": "[encoded data removed]",
            "text/plain": [
              "<Figure size 576x576 with 1 Axes>"
            ]
          },
          "metadata": {
            "tags": [],
            "needs_background": "light"
          }
        }
      ]
    },
    {
      "cell_type": "code",
      "metadata": {
        "id": "YyUtmTejDfFx",
        "colab_type": "code",
        "outputId": "aa6bd7ba-4e9e-474d-dc0f-6aaa00bf5ab1",
        "colab": {
          "base_uri": "https://localhost:8080/",
          "height": 53
        }
      },
      "source": [
        "print('train accuracy :', train_acc[-1]*100, '%')\n",
        "print('test accuracy :', test_acc[-1]*100, '%')"
      ],
      "execution_count": 0,
      "outputs": [
        {
          "output_type": "stream",
          "text": [
            "train accuracy : 100.0 %\n",
            "test accuracy : 89.3 %\n"
          ],
          "name": "stdout"
        }
      ]
    }
  ]
}